{
 "metadata": {
  "language_info": {
   "codemirror_mode": {
    "name": "ipython",
    "version": 3
   },
   "file_extension": ".py",
   "mimetype": "text/x-python",
   "name": "python",
   "nbconvert_exporter": "python",
   "pygments_lexer": "ipython3",
   "version": "3.8.5-final"
  },
  "orig_nbformat": 2,
  "kernelspec": {
   "name": "python385jvsc74a57bd0f68230855de34fbc1f1e1b102a7b521beacb83584710a0e7dced917824e6d9cf",
   "display_name": "Python 3.8.5 64-bit (conda)"
  }
 },
 "nbformat": 4,
 "nbformat_minor": 2,
 "cells": [
  {
   "source": [
    "# Import the required dependencies \n",
    "from bs4 import BeautifulSoup\n",
    "from splinter import Browser \n",
    "import pandas as pd \n",
    "import requests "
   ],
   "cell_type": "code",
   "metadata": {},
   "execution_count": 12,
   "outputs": []
  },
  {
   "source": [
    "#### For Windows, the following was used to be able to utilise Splinter on Chrome. This may be different if you use another OS"
   ],
   "cell_type": "markdown",
   "metadata": {}
  },
  {
   "cell_type": "code",
   "execution_count": null,
   "metadata": {},
   "outputs": [],
   "source": [
    "#from webdriver_manager.chrome import ChromeDriverManager\n",
    "#executable_path = {'executable_path': ChromeDriverManager().install()}\n",
    "#browser = Browser('chrome', **executable_path, headless=True)"
   ]
  },
  {
   "source": [
    "### 1. Scrape the [NASA Mars News Site](https://mars.nasa.gov/news/?page=0&per_page=40&order=publish_date+desc%2Ccreated_at+desc&search=&category=19%2C165%2C184%2C204&blank_scope=Latest) and collect the latest News Title and Paragraph Text "
   ],
   "cell_type": "markdown",
   "metadata": {}
  },
  {
   "cell_type": "code",
   "execution_count": null,
   "metadata": {},
   "outputs": [],
   "source": [
    "# Visit the NASA Mars News Site using the \"browser\" variable created with ChromeDriverManager\n",
    "url = 'https://mars.nasa.gov/news/'\n",
    "browser.visit(url)"
   ]
  },
  {
   "cell_type": "code",
   "execution_count": 15,
   "metadata": {},
   "outputs": [
    {
     "output_type": "stream",
     "name": "stdout",
     "text": [
      "NASA's Ingenuity Mars Helicopter Succeeds in Historic First Flight\nThe small rotorcraft made history, hovering above Jezero Crater, demonstrating that powered, controlled flight on another planet is possible.\n"
     ]
    }
   ],
   "source": [
    "#Create a HTML object\n",
    "nasa_news_html = browser.html\n",
    "\n",
    "# Parse HTML with Beautiful Soup\n",
    "parsed_nasa_news = BeautifulSoup(nasa_news_html, 'html.parser')\n",
    "\n",
    "\n",
    "# Locate where and how your desired elements are stored in the site's HTML script and use \".find()\" to extract the text \n",
    "news_title = parsed_nasa_news.find('div', class_='list_text').find('div', class_='content_title').text\n",
    "news_para = parsed_nasa_news.find('div', class_='article_teaser_body').text\n",
    "\n",
    "# Display the obtained text \n",
    "print(news_title)\n",
    "print(news_para)"
   ]
  },
  {
   "source": [
    "### 2. Extract the image URL for the featured image on [JPL Featured Images](https://data-class-jpl-space.s3.amazonaws.com/JPL_Space/index.html)"
   ],
   "cell_type": "markdown",
   "metadata": {}
  },
  {
   "cell_type": "code",
   "execution_count": 16,
   "metadata": {},
   "outputs": [],
   "source": [
    "# Visit the JPL Featured Images Site using the \"browser\" variable created with ChromeDriverManager\n",
    "url2 = 'https://data-class-jpl-space.s3.amazonaws.com/JPL_Space/index.html'\n",
    "browser.visit(url2)"
   ]
  },
  {
   "cell_type": "code",
   "execution_count": 17,
   "metadata": {},
   "outputs": [
    {
     "output_type": "execute_result",
     "data": {
      "text/plain": [
       "'https://data-class-jpl-space.s3.amazonaws.com/JPL_Space/image/featured/mars3.jpg'"
      ]
     },
     "metadata": {},
     "execution_count": 17
    }
   ],
   "source": [
    "#Create a HTML object\n",
    "jpl_image_html = browser.html\n",
    "\n",
    "#Parse the HTML with Beautiful Soup\n",
    "parsed_jpl = BeautifulSoup(jpl_image_html, 'html.parser')\n",
    "\n",
    "# Locate where and how your desired elements are stored in the site's HTML script and use \".find()\" and \".get()\" to extract the text \n",
    "featured_img = parsed_jpl.find('div', class_=\"header\").find('div', class_=\"floating_text_area\").find('a').get('href')\n",
    "\n",
    "#Identify the main URL that the href is otherwise attached to \n",
    "main_url = 'https://data-class-jpl-space.s3.amazonaws.com/JPL_Space/'\n",
    "\n",
    "#Join the main URL and the featured images href together to create the link for the image\n",
    "featured_image_url = main_url + featured_img\n",
    "\n",
    "#Display the image url\n",
    "featured_image_url"
   ]
  },
  {
   "source": [
    "### 3. Use pandas to scrape the table contianing facts about Mars on [Mars Facts](https://space-facts.com/mars/)"
   ],
   "cell_type": "markdown",
   "metadata": {}
  },
  {
   "cell_type": "code",
   "execution_count": 18,
   "metadata": {},
   "outputs": [
    {
     "output_type": "execute_result",
     "data": {
      "text/plain": [
       "                                              Value\n",
       "Description                                        \n",
       "Equatorial Diameter:                       6,792 km\n",
       "Polar Diameter:                            6,752 km\n",
       "Mass:                 6.39 × 10^23 kg (0.11 Earths)\n",
       "Moons:                          2 (Phobos & Deimos)\n",
       "Orbit Distance:            227,943,824 km (1.38 AU)\n",
       "Orbit Period:                  687 days (1.9 years)\n",
       "Surface Temperature:                   -87 to -5 °C\n",
       "First Record:                     2nd millennium BC\n",
       "Recorded By:                   Egyptian astronomers"
      ],
      "text/html": "<div>\n<style scoped>\n    .dataframe tbody tr th:only-of-type {\n        vertical-align: middle;\n    }\n\n    .dataframe tbody tr th {\n        vertical-align: top;\n    }\n\n    .dataframe thead th {\n        text-align: right;\n    }\n</style>\n<table border=\"1\" class=\"dataframe\">\n  <thead>\n    <tr style=\"text-align: right;\">\n      <th></th>\n      <th>Value</th>\n    </tr>\n    <tr>\n      <th>Description</th>\n      <th></th>\n    </tr>\n  </thead>\n  <tbody>\n    <tr>\n      <th>Equatorial Diameter:</th>\n      <td>6,792 km</td>\n    </tr>\n    <tr>\n      <th>Polar Diameter:</th>\n      <td>6,752 km</td>\n    </tr>\n    <tr>\n      <th>Mass:</th>\n      <td>6.39 × 10^23 kg (0.11 Earths)</td>\n    </tr>\n    <tr>\n      <th>Moons:</th>\n      <td>2 (Phobos &amp; Deimos)</td>\n    </tr>\n    <tr>\n      <th>Orbit Distance:</th>\n      <td>227,943,824 km (1.38 AU)</td>\n    </tr>\n    <tr>\n      <th>Orbit Period:</th>\n      <td>687 days (1.9 years)</td>\n    </tr>\n    <tr>\n      <th>Surface Temperature:</th>\n      <td>-87 to -5 °C</td>\n    </tr>\n    <tr>\n      <th>First Record:</th>\n      <td>2nd millennium BC</td>\n    </tr>\n    <tr>\n      <th>Recorded By:</th>\n      <td>Egyptian astronomers</td>\n    </tr>\n  </tbody>\n</table>\n</div>"
     },
     "metadata": {},
     "execution_count": 18
    }
   ],
   "source": [
    "#Obtain the url required \n",
    "url3 = 'https://space-facts.com/mars/'\n",
    "\n",
    "#Used \"pd.read_html\" to parse the html in pandas \n",
    "mars_facts_html = pd.read_html(url3)\n",
    "\n",
    "#Extract the the table on the site. \"[0]\" indicates the first table listed in the html\n",
    "planet_profile_df = mars_facts_html[0]\n",
    "\n",
    "#Assign column names\n",
    "planet_profile_df.columns = ['Description', 'Value']\n",
    "\n",
    "#Set the index row to be the 'Description' column\n",
    "planet_profile_df.set_index('Description', inplace=True)\n",
    "\n",
    "#Display the dataframe \n",
    "planet_profile_df"
   ]
  },
  {
   "cell_type": "code",
   "execution_count": 19,
   "metadata": {},
   "outputs": [],
   "source": [
    "#Convert the table into html \n",
    "profile_table_html = planet_profile_df.to_html()"
   ]
  },
  {
   "source": [
    "### 4. Visit the [USGS Astrogeology]('https://astrogeology.usgs.gov/search/results?q=hemisphere+enhanced&k1=target&v1=Mars') site and extract the images of each hemisphere"
   ],
   "cell_type": "markdown",
   "metadata": {}
  },
  {
   "cell_type": "code",
   "execution_count": 26,
   "metadata": {},
   "outputs": [],
   "source": [
    "# Visit the JPL Featured Images Site using the \"browser\" variable created with ChromeDriverManager\n",
    "hemispheres_url = 'https://astrogeology.usgs.gov/search/results?q=hemisphere+enhanced&k1=target&v1=Mars'\n",
    "browser.visit(hemispheres_url)"
   ]
  },
  {
   "cell_type": "code",
   "execution_count": 27,
   "metadata": {},
   "outputs": [
    {
     "output_type": "execute_result",
     "data": {
      "text/plain": [
       "[{'title': 'Cerberus Hemisphere ',\n",
       "  'img_url': 'https://astrogeology.usgs.gov/cache/images/f5e372a36edfa389625da6d0cc25d905_cerberus_enhanced.tif_full.jpg'},\n",
       " {'title': 'Schiaparelli Hemisphere ',\n",
       "  'img_url': 'https://astrogeology.usgs.gov/cache/images/3778f7b43bbbc89d6e3cfabb3613ba93_schiaparelli_enhanced.tif_full.jpg'},\n",
       " {'title': 'Syrtis Major Hemisphere ',\n",
       "  'img_url': 'https://astrogeology.usgs.gov/cache/images/555e6403a6ddd7ba16ddb0e471cadcf7_syrtis_major_enhanced.tif_full.jpg'},\n",
       " {'title': 'Valles Marineris Hemisphere ',\n",
       "  'img_url': 'https://astrogeology.usgs.gov/cache/images/b3c7c6c9138f57b4756be9b9c43e3a48_valles_marineris_enhanced.tif_full.jpg'}]"
      ]
     },
     "metadata": {},
     "execution_count": 27
    }
   ],
   "source": [
    "#Create a html object\n",
    "html_hemispheres = browser.html\n",
    "\n",
    "#Parse the HTML with Beautiful Soup\n",
    "parsed_hemipheres_img = BeautifulSoup(html_hemispheres, 'html.parser')\n",
    "\n",
    "#Create an empty list to store all the links for the hemispheres\n",
    "hemisphere_image_urls = []\n",
    "\n",
    "#Information and images of the hemispheres is listed under the \"item\" class in the \"div\" element\n",
    "#Use \".find_all()\" to find all the information for the element \"div\" with a class of \"item\" \n",
    "items = parsed_hemipheres_img.find_all('div', class_='item')\n",
    "\n",
    "#Enter a \"for loop\" to efficiently extract the requirements\n",
    "for i in items: \n",
    "    #The title is listed in the \"h3\" tag in the \"div\" element with the \"item\" class\n",
    "    #Extract the title using \".find().text\"\n",
    "    title = i.find('h3').text\n",
    "\n",
    "    #This is not necessary however in the above, you will recieve \"[HEMISPHERE NAME] Enhanced\" as the string\n",
    "    #The word \"enhanced\" has no meaning for our purposes and can be removed from the string\n",
    "    #The \".strip()\" function was used to achieve this\n",
    "    title = title.strip(\"Enhanced\")\n",
    "    \n",
    "    #Extract the 'href' to each individual hemisphere page \n",
    "    partial_img_url = i.find('a', class_='itemLink product-item')['href']\n",
    "\n",
    "    #Identify the main url that the above href would otherwise be attached to \n",
    "    hemispheres_main_url = 'https://astrogeology.usgs.gov'\n",
    "    \n",
    "    #Visit each site with the 'browser' variable created by joining the main url and 'href' \n",
    "    browser.visit(hemispheres_main_url + partial_img_url)\n",
    "\n",
    "    #Create a html object \n",
    "    individual_site = browser.html\n",
    "\n",
    "    #Parse each of the sites \n",
    "    parsed_individual_site = BeautifulSoup(individual_site, 'html.parser')\n",
    "\n",
    "    #Find the URL for the images by identifying where they are stored in the site's HTML and extract this information\n",
    "    img_url = hemispheres_main_url + parsed_individual_site.find('img', class_='wide-image')['src']\n",
    "\n",
    "    #Append what had been found as a dictionary in the empty list created outside this loop\n",
    "    hemisphere_image_urls.append({\"title\" : title, \"img_url\" : img_url})\n",
    "\n",
    "#Display the findings\n",
    "hemisphere_image_urls"
   ]
  }
 ]
}